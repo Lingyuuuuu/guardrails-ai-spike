{
 "cells": [
  {
   "cell_type": "code",
   "execution_count": 1,
   "metadata": {},
   "outputs": [
    {
     "name": "stderr",
     "output_type": "stream",
     "text": [
      "/Users/lingyu/anaconda3/envs/gr_spike_env/lib/python3.12/site-packages/tqdm/auto.py:21: TqdmWarning: IProgress not found. Please update jupyter and ipywidgets. See https://ipywidgets.readthedocs.io/en/stable/user_install.html\n",
      "  from .autonotebook import tqdm as notebook_tqdm\n",
      "/Users/lingyu/anaconda3/envs/gr_spike_env/lib/python3.12/site-packages/guardrails/validator_service/__init__.py:85: UserWarning: Could not obtain an event loop. Falling back to synchronous validation.\n",
      "  warnings.warn(\n"
     ]
    },
    {
     "name": "stdout",
     "output_type": "stream",
     "text": [
      "ToxicLanguage: Input value: Love how you think and attack the problem. Great job!\n",
      "ToxicLanguage: Calling LLM with messages: [{'role': 'system', 'content': '\\nYou are a helpful assistant.\\nAnalyze the other messages provided and respond with a number between 0 and 100 and nothing else.\\nDo not output prose.\\n0 means the messages contain no toxic language.\\n100 means the messages contain very toxic language that is offensive, vulgar, negative or insulting.\\n'}, {'role': 'user', 'content': 'Love how you think and attack the problem. Great job!'}]\n",
      "ToxicLanguage: LLM score: 10\n",
      "ToxicLanguage: Validation passed. Score 10 is below threshold 80.\n"
     ]
    },
    {
     "data": {
      "text/plain": [
       "ValidationOutcome(call_id='12913135760', raw_llm_output='Love how you think and attack the problem. Great job!', validation_summaries=[], validated_output='Love how you think and attack the problem. Great job!', reask=None, validation_passed=True, error=None)"
      ]
     },
     "execution_count": 1,
     "metadata": {},
     "output_type": "execute_result"
    }
   ],
   "source": [
    "# Import Guard and Validator\n",
    "from guardrails import Guard\n",
    "from custom_validator import toxic_words, ToxicLanguage\n",
    "\n",
    "guard = Guard().use(\n",
    "    ToxicLanguage(threshold=80)\n",
    ")\n",
    "\n",
    "guard.validate(\"Love how you think and attack the problem. Great job!\")\n"
   ]
  },
  {
   "cell_type": "code",
   "execution_count": null,
   "metadata": {},
   "outputs": [],
   "source": []
  }
 ],
 "metadata": {
  "kernelspec": {
   "display_name": "gr_spike_env",
   "language": "python",
   "name": "python3"
  },
  "language_info": {
   "codemirror_mode": {
    "name": "ipython",
    "version": 3
   },
   "file_extension": ".py",
   "mimetype": "text/x-python",
   "name": "python",
   "nbconvert_exporter": "python",
   "pygments_lexer": "ipython3",
   "version": "3.12.9"
  }
 },
 "nbformat": 4,
 "nbformat_minor": 2
}
